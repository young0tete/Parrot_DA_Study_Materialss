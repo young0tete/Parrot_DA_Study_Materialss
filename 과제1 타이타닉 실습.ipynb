{
 "cells": [
  {
   "cell_type": "code",
   "execution_count": 1,
   "id": "d9e432dd",
   "metadata": {},
   "outputs": [],
   "source": [
    "import pandas as pd\n",
    "titanic=pd.read_excel('titanic.xlsx')"
   ]
  },
  {
   "cell_type": "markdown",
   "id": "f241a711",
   "metadata": {},
   "source": [
    "# Parrot 데이터분석 스터디 과제1: 타이타닉 데이터 실습\n",
    "* PassengerId: 승객의 고유 식별 번호.\n",
    "* Survived: 생존 여부(0: 사망, 1: 생존).\n",
    "* Pclass: 승객의 객실 등급(1, 2, 3 등급).\n",
    "* Name: 승객의 이름.\n",
    "* Sex: 승객의 성별.\n",
    "* Age: 승객의 나이.\n",
    "* SibSp: 함께 탑승한 형제자매/배우자의 수.\n",
    "* Parch: 함께 탑승한 부모/자녀의 수.\n",
    "* Ticket: 티켓 번호.\n",
    "* Fare: 운임 요금.\n",
    "* Cabin: 객실 번호.\n",
    "* Embarked: 탑승 항구"
   ]
  },
  {
   "cell_type": "code",
   "execution_count": 2,
   "id": "1c55b4b4",
   "metadata": {},
   "outputs": [],
   "source": [
    "#1. 탑승 항구가 몇개인지 구하기"
   ]
  },
  {
   "cell_type": "code",
   "execution_count": 3,
   "id": "6be1ecdc",
   "metadata": {},
   "outputs": [],
   "source": [
    "#2. 객실등급이 2등급이고 나이가 23세 이상인 승객의 생존율 구하기"
   ]
  },
  {
   "cell_type": "code",
   "execution_count": 4,
   "id": "68f8dca2",
   "metadata": {},
   "outputs": [],
   "source": [
    "#3. 객실 등급별 탑승 승객의 수 구하기"
   ]
  },
  {
   "cell_type": "code",
   "execution_count": 5,
   "id": "cef354cd",
   "metadata": {},
   "outputs": [],
   "source": [
    "#4. 객실 등급별, 성별 승객의 평균 나이 구하기"
   ]
  },
  {
   "cell_type": "code",
   "execution_count": 6,
   "id": "b04764b1",
   "metadata": {},
   "outputs": [],
   "source": [
    "#5. 객실 등급별 평균 운임 구하기"
   ]
  },
  {
   "cell_type": "code",
   "execution_count": 7,
   "id": "a0fc2376",
   "metadata": {},
   "outputs": [],
   "source": [
    "#6. 승객 중 이름이 James인 사람 명단 추출하기"
   ]
  },
  {
   "cell_type": "code",
   "execution_count": 8,
   "id": "db7e4e14",
   "metadata": {},
   "outputs": [],
   "source": [
    "#7. 'Sex'열에서 male은 m으로, female은 f로 바꾸기"
   ]
  },
  {
   "cell_type": "code",
   "execution_count": 9,
   "id": "291e0910",
   "metadata": {},
   "outputs": [],
   "source": [
    "#8. 열별 결측치 개수 세기"
   ]
  },
  {
   "cell_type": "code",
   "execution_count": 10,
   "id": "b463df78",
   "metadata": {},
   "outputs": [],
   "source": [
    "#9. 결측치가 있는 데이터(행) 모두 제거하기 (원본데이터 유지하기) (남은 데이터는 몇개인가요?) "
   ]
  },
  {
   "cell_type": "code",
   "execution_count": 11,
   "id": "253bfd57",
   "metadata": {},
   "outputs": [],
   "source": [
    "#10. 'cabin'열을 제거한 후 결측치가 있는 데이터 모두 제거하기 (남은 데이터는 몇개인가요?) "
   ]
  },
  {
   "cell_type": "markdown",
   "id": "0b3e6de0",
   "metadata": {},
   "source": [
    "결측치 아무생각 없이 제거하면 데이터 소실이 큼. -> cabin에 대한 정보가 우리가 하려는 데이터 분석이나 예측에 불필요하다면 cabin 열을 먼저 날리는 게 데이터 소실을 최소화할 수 있다~~"
   ]
  }
 ],
 "metadata": {
  "kernelspec": {
   "display_name": "Python 3 (ipykernel)",
   "language": "python",
   "name": "python3"
  },
  "language_info": {
   "codemirror_mode": {
    "name": "ipython",
    "version": 3
   },
   "file_extension": ".py",
   "mimetype": "text/x-python",
   "name": "python",
   "nbconvert_exporter": "python",
   "pygments_lexer": "ipython3",
   "version": "3.11.3"
  }
 },
 "nbformat": 4,
 "nbformat_minor": 5
}
